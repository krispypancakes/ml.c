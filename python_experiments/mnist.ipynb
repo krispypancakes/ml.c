{
 "cells": [
  {
   "cell_type": "code",
   "execution_count": 91,
   "metadata": {},
   "outputs": [],
   "source": [
    "%load_ext autoreload\n",
    "%autoreload 2\n",
    "\n",
    "import numpy as np\n",
    "import matplotlib.pyplot as plt\n",
    "import gzip\n",
    "from tinygrad.tensor import Tensor\n",
    "from tinygrad.helpers import fetch"
   ]
  },
  {
   "cell_type": "code",
   "execution_count": 6,
   "metadata": {},
   "outputs": [],
   "source": [
    "def _fetch_mnist(file, offset): return Tensor(gzip.open(fetch(\"https://storage.googleapis.com/cvdf-datasets/mnist/\"+file)).read()[offset:])\n",
    "def mnist():\n",
    "  return _fetch_mnist(\"train-images-idx3-ubyte.gz\", 0x10).reshape(-1, 1, 28, 28), _fetch_mnist(\"train-labels-idx1-ubyte.gz\", 8), \\\n",
    "         _fetch_mnist(\"t10k-images-idx3-ubyte.gz\", 0x10).reshape(-1, 1, 28, 28), _fetch_mnist(\"t10k-labels-idx1-ubyte.gz\", 8)"
   ]
  },
  {
   "cell_type": "code",
   "execution_count": 7,
   "metadata": {},
   "outputs": [],
   "source": [
    "train_imgs, train_lbs, test_imgs, test_lbs = mnist()\n",
    "train_imgs, train_lbs, test_imgs, test_lbs = train_imgs.numpy(), train_lbs.numpy(), test_imgs.numpy(), test_lbs.numpy()"
   ]
  },
  {
   "cell_type": "code",
   "execution_count": 8,
   "metadata": {},
   "outputs": [
    {
     "name": "stdout",
     "output_type": "stream",
     "text": [
      "label is: 5\n"
     ]
    },
    {
     "data": {
      "image/png": "[encoded data removed]",
      "text/plain": [
       "<Figure size 640x480 with 1 Axes>"
      ]
     },
     "metadata": {},
     "output_type": "display_data"
    }
   ],
   "source": [
    "plt.imshow(train_imgs[0].reshape(28,28,1))\n",
    "print(f\"label is: {train_lbs[0]}\")\n",
    "\n",
    "trainy = train_imgs[0]"
   ]
  },
  {
   "cell_type": "code",
   "execution_count": 65,
   "metadata": {},
   "outputs": [],
   "source": []
  },
  {
   "cell_type": "code",
   "execution_count": 107,
   "metadata": {},
   "outputs": [],
   "source": [
    "N_INPUT = 784\n",
    "N_HIDDEN_1 = 128\n",
    "N_HIDDEN_2 = 20\n",
    "N_OUT = 10\n",
    "LR = 0.001\n",
    "\n",
    "def flatten(_imgs: np.ndarray) -> np.ndarray:\n",
    "    images = []\n",
    "    for img in _imgs:\n",
    "        flat_train = np.zeros(img.shape[1]**2)\n",
    "        ind = 0\n",
    "        for c in img: # iterate over channels, although we only have one here\n",
    "            for i in c: # iterate over rows\n",
    "                for p in i: # iterate over pixels\n",
    "                    flat_train[ind] = p\n",
    "                    ind += 1\n",
    "        images.append(flat_train)\n",
    "    return np.asarray(images)\n",
    "\n",
    "\n",
    "def relu(x: float) -> float:\n",
    "    return float(max(0, x))\n",
    "\n",
    "\n",
    "def hidden_layer(_input: np.ndarray, weights_mat: np.ndarray, bias: np.ndarray, last: bool = False) -> tuple[np.ndarray]:\n",
    "    n_input = weights_mat.shape[0]\n",
    "    n_output = weights_mat.shape[1]\n",
    "    z = np.zeros(n_output)\n",
    "    a = np.zeros(n_output)\n",
    "\n",
    "    for i in range(n_input):\n",
    "        for j in range(n_output):\n",
    "            z[j] += _input[i] * weights_mat[i,j]\n",
    "        z[j] += bias[j]\n",
    "\n",
    "    if not last:\n",
    "        for i in range(n_output):\n",
    "            a[i] = relu(z[i])\n",
    "    else:\n",
    "        a = softmax(z)\n",
    "\n",
    "    return z, a\n",
    "\n",
    "\n",
    "def onehot(label):\n",
    "    vec = np.zeros(N_OUT)\n",
    "    vec[label] = 1\n",
    "    return vec\n",
    "\n",
    "\n",
    "def softmax(preds: np.ndarray) -> np.ndarray:\n",
    "    logits = np.zeros_like(preds)\n",
    "    exp_preds = np.zeros_like(preds)\n",
    "    sum_exp = 0\n",
    "    max_pred = max(preds)\n",
    "\n",
    "    for i in range(len(preds)):\n",
    "        exp_preds[i] = np.exp(preds[i] - max_pred)\n",
    "        sum_exp += exp_preds[i]\n",
    "\n",
    "    for i in range(len(preds)):\n",
    "        logits[i] = exp_preds[i] / sum_exp\n",
    "\n",
    "    return logits\n",
    "\n",
    "\n",
    "def cross_entropy_loss(pred: np.ndarray, target: np.ndarray) -> np.ndarray:\n",
    "    eps = 1e-15\n",
    "    L = 0\n",
    "    for i in range(N_OUT):\n",
    "        L += target[i] * np.log(pred[i] + eps)\n",
    "    return -L\n",
    "\n",
    "def backward_out(logits: np.ndarray, label: np.ndarray) -> tuple[np.ndarray]:\n",
    "    dz = logits - label\n",
    "    dw = np.transpose(logits) * dz\n",
    "    db = dz\n",
    "    return dw, db\n",
    "    \n",
    "\n",
    "def backward_hidden(inputs: np.ndarray, weights_prev: np.ndarray, dz_prev: np.ndarray) -> tuple[np.ndarray]:\n",
    "    da = dz_prev * np.transpose(weights_prev)\n",
    "    dz = da\n",
    "    dw = np.transpose(inputs) * dz\n",
    "    db = dz\n",
    "    return dw, db\n",
    "\n",
    "\n",
    "def update(params: np.ndarray, grads: np.ndarray, lr: float) -> np.ndarray:\n",
    "    try:\n",
    "        for i in range(params.shape[0]):\n",
    "            for j in range(params.shape[1]):\n",
    "                params[i,j] = params[i,j] - lr * grads[i,j]\n",
    "    except IndexError:\n",
    "        for i in range(params.shape[0]):\n",
    "            params[i] = params[i] - lr * grads[i]\n",
    "    return params\n",
    "\n"
   ]
  },
  {
   "cell_type": "code",
   "execution_count": null,
   "metadata": {},
   "outputs": [],
   "source": [
    "x_train = flatten(train_imgs)"
   ]
  },
  {
   "cell_type": "code",
   "execution_count": 109,
   "metadata": {},
   "outputs": [],
   "source": [
    "weights_1 = np.random.randn(N_INPUT, N_HIDDEN_1) * 0.01\n",
    "bias_1 = np.zeros(N_HIDDEN_1)\n",
    "\n",
    "weights_2 = np.random.randn(N_HIDDEN_1, N_OUT) * 0.01\n",
    "bias_2 = np.zeros(N_HIDDEN_2)"
   ]
  },
  {
   "cell_type": "code",
   "execution_count": 110,
   "metadata": {},
   "outputs": [
    {
     "ename": "ValueError",
     "evalue": "operands could not be broadcast together with shapes (10,) (10,128) ",
     "output_type": "error",
     "traceback": [
      "\u001b[0;31m---------------------------------------------------------------------------\u001b[0m",
      "\u001b[0;31mValueError\u001b[0m                                Traceback (most recent call last)",
      "Cell \u001b[0;32mIn[110], line 9\u001b[0m\n\u001b[1;32m      7\u001b[0m epoch_loss\u001b[38;5;241m.\u001b[39mappend(loss)\n\u001b[1;32m      8\u001b[0m grad_w2, grad_b2 \u001b[38;5;241m=\u001b[39m backward_out(logits, one_hot_label)\n\u001b[0;32m----> 9\u001b[0m grad_w1, grad_b1 \u001b[38;5;241m=\u001b[39m \u001b[43mbackward_hidden\u001b[49m\u001b[43m(\u001b[49m\u001b[43mx_train\u001b[49m\u001b[43m[\u001b[49m\u001b[43mi\u001b[49m\u001b[43m]\u001b[49m\u001b[43m,\u001b[49m\u001b[43m \u001b[49m\u001b[43mweights_2\u001b[49m\u001b[43m,\u001b[49m\u001b[43m \u001b[49m\u001b[43mgrad_b2\u001b[49m\u001b[43m)\u001b[49m\n\u001b[1;32m     10\u001b[0m weights_1 \u001b[38;5;241m=\u001b[39m update(weights_1, grad_w1, LR)\n\u001b[1;32m     11\u001b[0m weights_2 \u001b[38;5;241m=\u001b[39m update(weights_2, grad_w2, LR)\n",
      "Cell \u001b[0;32mIn[107], line 83\u001b[0m, in \u001b[0;36mbackward_hidden\u001b[0;34m(inputs, weights_prev, dz_prev)\u001b[0m\n\u001b[1;32m     82\u001b[0m \u001b[38;5;28;01mdef\u001b[39;00m \u001b[38;5;21mbackward_hidden\u001b[39m(inputs: np\u001b[38;5;241m.\u001b[39mndarray, weights_prev: np\u001b[38;5;241m.\u001b[39mndarray, dz_prev: np\u001b[38;5;241m.\u001b[39mndarray) \u001b[38;5;241m-\u001b[39m\u001b[38;5;241m>\u001b[39m \u001b[38;5;28mtuple\u001b[39m[np\u001b[38;5;241m.\u001b[39mndarray]:\n\u001b[0;32m---> 83\u001b[0m     da \u001b[38;5;241m=\u001b[39m \u001b[43mdz_prev\u001b[49m\u001b[43m \u001b[49m\u001b[38;5;241;43m*\u001b[39;49m\u001b[43m \u001b[49m\u001b[43mnp\u001b[49m\u001b[38;5;241;43m.\u001b[39;49m\u001b[43mtranspose\u001b[49m\u001b[43m(\u001b[49m\u001b[43mweights_prev\u001b[49m\u001b[43m)\u001b[49m\n\u001b[1;32m     84\u001b[0m     dz \u001b[38;5;241m=\u001b[39m da\n\u001b[1;32m     85\u001b[0m     dw \u001b[38;5;241m=\u001b[39m np\u001b[38;5;241m.\u001b[39mtranspose(inputs) \u001b[38;5;241m*\u001b[39m dz\n",
      "\u001b[0;31mValueError\u001b[0m: operands could not be broadcast together with shapes (10,) (10,128) "
     ]
    }
   ],
   "source": [
    "epoch_loss = []\n",
    "for i in range(x_train.shape[0]):\n",
    "    one_hot_label = onehot(train_lbs[i])\n",
    "    z1, a1 = hidden_layer(x_train[i], weights_1, bias_1, last=False)\n",
    "    z2, logits = hidden_layer(a1, weights_2, bias_2, last=True)\n",
    "    loss = cross_entropy_loss(logits, one_hot_label)\n",
    "    epoch_loss.append(loss)\n",
    "    grad_w2, grad_b2 = backward_out(logits, one_hot_label)\n",
    "    grad_w1, grad_b1 = backward_hidden(x_train[i], weights_2, grad_b2)\n",
    "    weights_1 = update(weights_1, grad_w1, LR)\n",
    "    weights_2 = update(weights_2, grad_w2, LR)\n",
    "    bias_1 = update(bias_1, grad_b1, LR)\n",
    "    bias_2 = update(bias_2, grad_b2, LR)\n",
    "    if i%1000 == 0:\n",
    "        print(f\"Progress: {round((i+1) / x_train.shape[0] * 100)} % | loss: {round(sum(epoch_loss) / len(epoch_loss))}\")\n",
    "\n",
    "    "
   ]
  },
  {
   "cell_type": "code",
   "execution_count": 111,
   "metadata": {},
   "outputs": [
    {
     "name": "stdout",
     "output_type": "stream",
     "text": [
      "(10,)\n",
      "5\n"
     ]
    }
   ],
   "source": [
    "print(logits.shape)\n",
    "print(train_lbs[i])"
   ]
  }
 ],
 "metadata": {
  "kernelspec": {
   "display_name": ".venv",
   "language": "python",
   "name": "python3"
  },
  "language_info": {
   "codemirror_mode": {
    "name": "ipython",
    "version": 3
   },
   "file_extension": ".py",
   "mimetype": "text/x-python",
   "name": "python",
   "nbconvert_exporter": "python",
   "pygments_lexer": "ipython3",
   "version": "3.10.14"
  }
 },
 "nbformat": 4,
 "nbformat_minor": 2
}
